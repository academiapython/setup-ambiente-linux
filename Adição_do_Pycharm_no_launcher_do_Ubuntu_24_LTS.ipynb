{
  "nbformat": 4,
  "nbformat_minor": 0,
  "metadata": {
    "colab": {
      "provenance": [],
      "authorship_tag": "ABX9TyPrYrjNZLrPGzEdx1gr/OF2",
      "include_colab_link": true
    },
    "kernelspec": {
      "name": "python3",
      "display_name": "Python 3"
    },
    "language_info": {
      "name": "python"
    }
  },
  "cells": [
    {
      "cell_type": "markdown",
      "metadata": {
        "id": "view-in-github",
        "colab_type": "text"
      },
      "source": [
        "<a href=\"https://colab.research.google.com/github/academiapython/setup-ambiente-linux/blob/main/Adi%C3%A7%C3%A3o_do_Pycharm_no_launcher_do_Ubuntu_24_LTS.ipynb\" target=\"_parent\"><img src=\"https://colab.research.google.com/assets/colab-badge.svg\" alt=\"Open In Colab\"/></a>"
      ]
    },
    {
      "cell_type": "markdown",
      "source": [
        "## **Crie um arquivo chamado pycharm.desktop**\n",
        "\n"
      ],
      "metadata": {
        "id": "8rwv5tDK5aB1"
      }
    },
    {
      "cell_type": "markdown",
      "source": [
        "```plaintext\n",
        "nano ~/.local/share/applications/pycharm.desktop\n"
      ],
      "metadata": {
        "id": "uWSHlxHlgfUA"
      }
    },
    {
      "cell_type": "markdown",
      "source": [
        "## **Inserir o conteúdo abaixo no arquivo pycharm.desktop**\n",
        "\n",
        "**Dica**: Utilize as teclas ctrl + insert para colar o conteúdo."
      ],
      "metadata": {
        "id": "v-SoNQ_Vg31A"
      }
    },
    {
      "cell_type": "markdown",
      "source": [
        "```plaintext\n",
        "[Desktop Entry]\n",
        "Version=1.0\n",
        "Type=Application\n",
        "Name=PyCharm\n",
        "Exec=sh /opt/pycharm-community-2024.1.1/bin/pycharm.sh\n",
        "Icon=/opt/pycharm-community-2024.1.1/bin/pycharm.png\n",
        "Terminal=false\n",
        "Comment=Integrated Development Environment for Python\n",
        "Categories=Development;IDE;\n"
      ],
      "metadata": {
        "id": "YzWV-r4nfMhO"
      }
    },
    {
      "cell_type": "markdown",
      "source": [
        "### **Salve o arquivo**"
      ],
      "metadata": {
        "id": "TmQfP3APfO5m"
      }
    },
    {
      "cell_type": "markdown",
      "source": [
        "```plaintext\n",
        "Dica: utilizando CTRL + O para salvar e CTRL + X para sair.\n"
      ],
      "metadata": {
        "id": "xkAy9dHDh2Wl"
      }
    },
    {
      "cell_type": "markdown",
      "source": [
        "## **Dê permissões de execução para o arquivo pycharm.desktop**"
      ],
      "metadata": {
        "id": "W4RT5pjH8jVJ"
      }
    },
    {
      "cell_type": "markdown",
      "source": [
        "```plaintext\n",
        "chmod +x ~/.local/share/applications/pycharm.desktop\n",
        "\n"
      ],
      "metadata": {
        "id": "CnIm4rq7_EVO"
      }
    },
    {
      "cell_type": "markdown",
      "source": [
        "## **Garantindo que o Pycharm irá aparecer no laucher do Ubuntu 24.04 LTS**"
      ],
      "metadata": {
        "id": "tgmkjM7Si5cX"
      }
    },
    {
      "cell_type": "markdown",
      "source": [
        "```plaintext\n",
        "update-desktop-database ~/.local/share/applications/\n",
        "\n",
        "\n"
      ],
      "metadata": {
        "id": "auILzj1bjOd4"
      }
    }
  ]
}